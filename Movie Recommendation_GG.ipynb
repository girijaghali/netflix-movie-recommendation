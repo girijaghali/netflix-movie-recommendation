{
 "cells": [
  {
   "cell_type": "code",
   "execution_count": 2,
   "metadata": {},
   "outputs": [],
   "source": [
    "import pandas as pd\n",
    "import seaborn as sns\n",
    "import numpy as np\n",
    "from surprise import Reader, Dataset, SVD, evaluate,accuracy\n",
    "from surprise.model_selection import train_test_split"
   ]
  },
  {
   "cell_type": "code",
   "execution_count": 3,
   "metadata": {},
   "outputs": [],
   "source": [
    "all_ratings_DF =  pd.read_csv('all_ratings.csv')"
   ]
  },
  {
   "cell_type": "code",
   "execution_count": 4,
   "metadata": {},
   "outputs": [
    {
     "data": {
      "text/html": [
       "<div>\n",
       "<style scoped>\n",
       "    .dataframe tbody tr th:only-of-type {\n",
       "        vertical-align: middle;\n",
       "    }\n",
       "\n",
       "    .dataframe tbody tr th {\n",
       "        vertical-align: top;\n",
       "    }\n",
       "\n",
       "    .dataframe thead th {\n",
       "        text-align: right;\n",
       "    }\n",
       "</style>\n",
       "<table border=\"1\" class=\"dataframe\">\n",
       "  <thead>\n",
       "    <tr style=\"text-align: right;\">\n",
       "      <th></th>\n",
       "      <th>movie_id</th>\n",
       "      <th>user_id</th>\n",
       "      <th>rating</th>\n",
       "    </tr>\n",
       "  </thead>\n",
       "  <tbody>\n",
       "    <tr>\n",
       "      <th>0</th>\n",
       "      <td>4500</td>\n",
       "      <td>2532865</td>\n",
       "      <td>4</td>\n",
       "    </tr>\n",
       "    <tr>\n",
       "      <th>1</th>\n",
       "      <td>4500</td>\n",
       "      <td>573364</td>\n",
       "      <td>3</td>\n",
       "    </tr>\n",
       "    <tr>\n",
       "      <th>2</th>\n",
       "      <td>4500</td>\n",
       "      <td>1696725</td>\n",
       "      <td>3</td>\n",
       "    </tr>\n",
       "    <tr>\n",
       "      <th>3</th>\n",
       "      <td>4500</td>\n",
       "      <td>1253431</td>\n",
       "      <td>3</td>\n",
       "    </tr>\n",
       "    <tr>\n",
       "      <th>4</th>\n",
       "      <td>4500</td>\n",
       "      <td>1265574</td>\n",
       "      <td>2</td>\n",
       "    </tr>\n",
       "  </tbody>\n",
       "</table>\n",
       "</div>"
      ],
      "text/plain": [
       "   movie_id  user_id  rating\n",
       "0      4500  2532865       4\n",
       "1      4500   573364       3\n",
       "2      4500  1696725       3\n",
       "3      4500  1253431       3\n",
       "4      4500  1265574       2"
      ]
     },
     "execution_count": 4,
     "metadata": {},
     "output_type": "execute_result"
    }
   ],
   "source": [
    "all_ratings_DF.head(5)"
   ]
  },
  {
   "cell_type": "code",
   "execution_count": 5,
   "metadata": {},
   "outputs": [
    {
     "data": {
      "text/plain": [
       "(100480507, 3)"
      ]
     },
     "execution_count": 5,
     "metadata": {},
     "output_type": "execute_result"
    }
   ],
   "source": [
    "all_ratings_DF.shape"
   ]
  },
  {
   "cell_type": "code",
   "execution_count": 6,
   "metadata": {},
   "outputs": [],
   "source": [
    "all_ratings_DF2 = all_ratings_DF"
   ]
  },
  {
   "cell_type": "code",
   "execution_count": 7,
   "metadata": {},
   "outputs": [
    {
     "name": "stdout",
     "output_type": "stream",
     "text": [
      "Movie minimum times of review: 4040.0\n"
     ]
    }
   ],
   "source": [
    "f = ['count','mean']\n",
    "\n",
    "ratings_summary_DF = all_ratings_DF.groupby('movie_id')['rating'].agg(f)\n",
    "ratings_summary_DF.index = ratings_summary_DF.index.map(int)\n",
    "\n",
    "movie_benchmark = round(ratings_summary_DF['count'].quantile(0.8),0)\n",
    "drop_movie_list = ratings_summary_DF[ratings_summary_DF['count'] < movie_benchmark].index\n",
    "\n",
    "print('Movie minimum times of review: {}'.format(movie_benchmark))\n"
   ]
  },
  {
   "cell_type": "code",
   "execution_count": 8,
   "metadata": {},
   "outputs": [
    {
     "name": "stdout",
     "output_type": "stream",
     "text": [
      "Customer minimum times of review: 322.0\n"
     ]
    }
   ],
   "source": [
    "user_summary_DF = all_ratings_DF.groupby('user_id')['rating'].agg(f)\n",
    "user_summary_DF.index = user_summary_DF.index.map(int)\n",
    "\n",
    "cust_benchmark = round(user_summary_DF['count'].quantile(0.8),0)\n",
    "drop_cust_list = user_summary_DF[user_summary_DF['count'] < cust_benchmark].index\n",
    "\n",
    "print('Customer minimum times of review: {}'.format(cust_benchmark))"
   ]
  },
  {
   "cell_type": "code",
   "execution_count": 9,
   "metadata": {},
   "outputs": [
    {
     "name": "stdout",
     "output_type": "stream",
     "text": [
      "Original Shape: (100480507, 3)\n",
      "After Trim Shape: (56222526, 3)\n",
      "-Data Examples-\n",
      "          movie_id  user_id  rating\n",
      "3151          4506   716091       4\n",
      "8845673       5971  1498163       3\n",
      "17841467      7399   238673       4\n",
      "26508188      9125  1707006       3\n",
      "35307989     10920   480305       5\n",
      "44425386     12470   186951       3\n",
      "53551901       758  2404366       4\n",
      "62517676      2457  2647259       4\n",
      "71328360      4109   632719       4\n",
      "80290897     14480  1103969       3\n",
      "89141979     15844  2535126       3\n",
      "98305686     17355  2381067       3\n"
     ]
    }
   ],
   "source": [
    "print('Original Shape: {}'.format(all_ratings_DF.shape))\n",
    "all_ratings_DF = all_ratings_DF[~all_ratings_DF['movie_id'].isin(drop_movie_list)]\n",
    "all_ratings_DF = all_ratings_DF[~all_ratings_DF['user_id'].isin(drop_cust_list)]\n",
    "print('After Trim Shape: {}'.format(all_ratings_DF.shape))\n",
    "print('-Data Examples-')\n",
    "print(all_ratings_DF.iloc[::5000000, :])"
   ]
  },
  {
   "cell_type": "code",
   "execution_count": 10,
   "metadata": {},
   "outputs": [
    {
     "name": "stdout",
     "output_type": "stream",
     "text": [
      "(96290, 3554)\n"
     ]
    },
    {
     "data": {
      "text/html": [
       "<div>\n",
       "<style scoped>\n",
       "    .dataframe tbody tr th:only-of-type {\n",
       "        vertical-align: middle;\n",
       "    }\n",
       "\n",
       "    .dataframe tbody tr th {\n",
       "        vertical-align: top;\n",
       "    }\n",
       "\n",
       "    .dataframe thead th {\n",
       "        text-align: right;\n",
       "    }\n",
       "</style>\n",
       "<table border=\"1\" class=\"dataframe\">\n",
       "  <thead>\n",
       "    <tr style=\"text-align: right;\">\n",
       "      <th>movie_id</th>\n",
       "      <th>8</th>\n",
       "      <th>17</th>\n",
       "      <th>18</th>\n",
       "      <th>26</th>\n",
       "      <th>28</th>\n",
       "      <th>30</th>\n",
       "      <th>33</th>\n",
       "      <th>44</th>\n",
       "      <th>46</th>\n",
       "      <th>52</th>\n",
       "      <th>...</th>\n",
       "      <th>17714</th>\n",
       "      <th>17724</th>\n",
       "      <th>17725</th>\n",
       "      <th>17730</th>\n",
       "      <th>17743</th>\n",
       "      <th>17756</th>\n",
       "      <th>17761</th>\n",
       "      <th>17762</th>\n",
       "      <th>17764</th>\n",
       "      <th>17769</th>\n",
       "    </tr>\n",
       "    <tr>\n",
       "      <th>user_id</th>\n",
       "      <th></th>\n",
       "      <th></th>\n",
       "      <th></th>\n",
       "      <th></th>\n",
       "      <th></th>\n",
       "      <th></th>\n",
       "      <th></th>\n",
       "      <th></th>\n",
       "      <th></th>\n",
       "      <th></th>\n",
       "      <th></th>\n",
       "      <th></th>\n",
       "      <th></th>\n",
       "      <th></th>\n",
       "      <th></th>\n",
       "      <th></th>\n",
       "      <th></th>\n",
       "      <th></th>\n",
       "      <th></th>\n",
       "      <th></th>\n",
       "      <th></th>\n",
       "    </tr>\n",
       "  </thead>\n",
       "  <tbody>\n",
       "    <tr>\n",
       "      <th>6</th>\n",
       "      <td>NaN</td>\n",
       "      <td>NaN</td>\n",
       "      <td>NaN</td>\n",
       "      <td>NaN</td>\n",
       "      <td>NaN</td>\n",
       "      <td>3.0</td>\n",
       "      <td>NaN</td>\n",
       "      <td>NaN</td>\n",
       "      <td>NaN</td>\n",
       "      <td>NaN</td>\n",
       "      <td>...</td>\n",
       "      <td>NaN</td>\n",
       "      <td>3.0</td>\n",
       "      <td>NaN</td>\n",
       "      <td>NaN</td>\n",
       "      <td>NaN</td>\n",
       "      <td>NaN</td>\n",
       "      <td>NaN</td>\n",
       "      <td>NaN</td>\n",
       "      <td>NaN</td>\n",
       "      <td>NaN</td>\n",
       "    </tr>\n",
       "    <tr>\n",
       "      <th>7</th>\n",
       "      <td>5.0</td>\n",
       "      <td>NaN</td>\n",
       "      <td>NaN</td>\n",
       "      <td>NaN</td>\n",
       "      <td>4.0</td>\n",
       "      <td>5.0</td>\n",
       "      <td>NaN</td>\n",
       "      <td>NaN</td>\n",
       "      <td>NaN</td>\n",
       "      <td>NaN</td>\n",
       "      <td>...</td>\n",
       "      <td>NaN</td>\n",
       "      <td>NaN</td>\n",
       "      <td>NaN</td>\n",
       "      <td>NaN</td>\n",
       "      <td>NaN</td>\n",
       "      <td>NaN</td>\n",
       "      <td>NaN</td>\n",
       "      <td>NaN</td>\n",
       "      <td>3.0</td>\n",
       "      <td>NaN</td>\n",
       "    </tr>\n",
       "    <tr>\n",
       "      <th>79</th>\n",
       "      <td>NaN</td>\n",
       "      <td>NaN</td>\n",
       "      <td>NaN</td>\n",
       "      <td>NaN</td>\n",
       "      <td>NaN</td>\n",
       "      <td>3.0</td>\n",
       "      <td>NaN</td>\n",
       "      <td>NaN</td>\n",
       "      <td>NaN</td>\n",
       "      <td>NaN</td>\n",
       "      <td>...</td>\n",
       "      <td>NaN</td>\n",
       "      <td>NaN</td>\n",
       "      <td>NaN</td>\n",
       "      <td>NaN</td>\n",
       "      <td>NaN</td>\n",
       "      <td>NaN</td>\n",
       "      <td>NaN</td>\n",
       "      <td>NaN</td>\n",
       "      <td>4.0</td>\n",
       "      <td>NaN</td>\n",
       "    </tr>\n",
       "    <tr>\n",
       "      <th>97</th>\n",
       "      <td>NaN</td>\n",
       "      <td>NaN</td>\n",
       "      <td>NaN</td>\n",
       "      <td>NaN</td>\n",
       "      <td>NaN</td>\n",
       "      <td>NaN</td>\n",
       "      <td>NaN</td>\n",
       "      <td>NaN</td>\n",
       "      <td>NaN</td>\n",
       "      <td>NaN</td>\n",
       "      <td>...</td>\n",
       "      <td>NaN</td>\n",
       "      <td>NaN</td>\n",
       "      <td>NaN</td>\n",
       "      <td>NaN</td>\n",
       "      <td>NaN</td>\n",
       "      <td>NaN</td>\n",
       "      <td>NaN</td>\n",
       "      <td>NaN</td>\n",
       "      <td>NaN</td>\n",
       "      <td>NaN</td>\n",
       "    </tr>\n",
       "    <tr>\n",
       "      <th>134</th>\n",
       "      <td>NaN</td>\n",
       "      <td>NaN</td>\n",
       "      <td>NaN</td>\n",
       "      <td>NaN</td>\n",
       "      <td>5.0</td>\n",
       "      <td>NaN</td>\n",
       "      <td>NaN</td>\n",
       "      <td>NaN</td>\n",
       "      <td>NaN</td>\n",
       "      <td>NaN</td>\n",
       "      <td>...</td>\n",
       "      <td>NaN</td>\n",
       "      <td>NaN</td>\n",
       "      <td>NaN</td>\n",
       "      <td>NaN</td>\n",
       "      <td>NaN</td>\n",
       "      <td>NaN</td>\n",
       "      <td>NaN</td>\n",
       "      <td>4.0</td>\n",
       "      <td>NaN</td>\n",
       "      <td>NaN</td>\n",
       "    </tr>\n",
       "  </tbody>\n",
       "</table>\n",
       "<p>5 rows × 3554 columns</p>\n",
       "</div>"
      ],
      "text/plain": [
       "movie_id  8      17     18     26     28     30     33     44     46     \\\n",
       "user_id                                                                   \n",
       "6           NaN    NaN    NaN    NaN    NaN    3.0    NaN    NaN    NaN   \n",
       "7           5.0    NaN    NaN    NaN    4.0    5.0    NaN    NaN    NaN   \n",
       "79          NaN    NaN    NaN    NaN    NaN    3.0    NaN    NaN    NaN   \n",
       "97          NaN    NaN    NaN    NaN    NaN    NaN    NaN    NaN    NaN   \n",
       "134         NaN    NaN    NaN    NaN    5.0    NaN    NaN    NaN    NaN   \n",
       "\n",
       "movie_id  52     ...    17714  17724  17725  17730  17743  17756  17761  \\\n",
       "user_id          ...                                                      \n",
       "6           NaN  ...      NaN    3.0    NaN    NaN    NaN    NaN    NaN   \n",
       "7           NaN  ...      NaN    NaN    NaN    NaN    NaN    NaN    NaN   \n",
       "79          NaN  ...      NaN    NaN    NaN    NaN    NaN    NaN    NaN   \n",
       "97          NaN  ...      NaN    NaN    NaN    NaN    NaN    NaN    NaN   \n",
       "134         NaN  ...      NaN    NaN    NaN    NaN    NaN    NaN    NaN   \n",
       "\n",
       "movie_id  17762  17764  17769  \n",
       "user_id                        \n",
       "6           NaN    NaN    NaN  \n",
       "7           NaN    3.0    NaN  \n",
       "79          NaN    4.0    NaN  \n",
       "97          NaN    NaN    NaN  \n",
       "134         4.0    NaN    NaN  \n",
       "\n",
       "[5 rows x 3554 columns]"
      ]
     },
     "execution_count": 10,
     "metadata": {},
     "output_type": "execute_result"
    }
   ],
   "source": [
    "all_ratings_DF_PVT = pd.pivot_table(all_ratings_DF,values='rating',index='user_id',columns='movie_id')\n",
    "\n",
    "print(all_ratings_DF_PVT.shape)\n",
    "all_ratings_DF_PVT.head(5)\n"
   ]
  },
  {
   "cell_type": "code",
   "execution_count": 11,
   "metadata": {},
   "outputs": [],
   "source": [
    "import csv\n",
    "\n",
    "all_movies_DF = pd.DataFrame(columns=['movie_id','year','movie_name'])\n",
    "\n",
    "csv_file = open('movie_titles.csv',encoding = \"ISO-8859-1\")\n",
    "csv_reader = csv.reader(csv_file)\n",
    "for row in csv_reader:\n",
    "    if(len(row) == 3):\n",
    "        all_movies_DF.loc[row[0]] = [int(row[0]),row[1],row[2]]\n",
    "    else:\n",
    "        temp_movie_title = ''\n",
    "        for j in (2,len(row)-1):\n",
    "            if (j==len(row)-1):\n",
    "                temp_movie_title = temp_movie_title + row[j]\n",
    "            else:\n",
    "                temp_movie_title = temp_movie_title + row[j] + ','\n",
    "        all_movies_DF.loc[row[0]] = [int(row[0]),row[1],temp_movie_title]\n",
    "\n",
    "csv_file.close()"
   ]
  },
  {
   "cell_type": "code",
   "execution_count": 12,
   "metadata": {},
   "outputs": [
    {
     "data": {
      "text/html": [
       "<div>\n",
       "<style scoped>\n",
       "    .dataframe tbody tr th:only-of-type {\n",
       "        vertical-align: middle;\n",
       "    }\n",
       "\n",
       "    .dataframe tbody tr th {\n",
       "        vertical-align: top;\n",
       "    }\n",
       "\n",
       "    .dataframe thead th {\n",
       "        text-align: right;\n",
       "    }\n",
       "</style>\n",
       "<table border=\"1\" class=\"dataframe\">\n",
       "  <thead>\n",
       "    <tr style=\"text-align: right;\">\n",
       "      <th></th>\n",
       "      <th>movie_id</th>\n",
       "      <th>year</th>\n",
       "      <th>movie_name</th>\n",
       "    </tr>\n",
       "  </thead>\n",
       "  <tbody>\n",
       "    <tr>\n",
       "      <th>1</th>\n",
       "      <td>1</td>\n",
       "      <td>2003</td>\n",
       "      <td>Dinosaur Planet</td>\n",
       "    </tr>\n",
       "    <tr>\n",
       "      <th>2</th>\n",
       "      <td>2</td>\n",
       "      <td>2004</td>\n",
       "      <td>Isle of Man TT 2004 Review</td>\n",
       "    </tr>\n",
       "    <tr>\n",
       "      <th>3</th>\n",
       "      <td>3</td>\n",
       "      <td>1997</td>\n",
       "      <td>Character</td>\n",
       "    </tr>\n",
       "    <tr>\n",
       "      <th>4</th>\n",
       "      <td>4</td>\n",
       "      <td>1994</td>\n",
       "      <td>Paula Abdul's Get Up &amp; Dance</td>\n",
       "    </tr>\n",
       "    <tr>\n",
       "      <th>5</th>\n",
       "      <td>5</td>\n",
       "      <td>2004</td>\n",
       "      <td>The Rise and Fall of ECW</td>\n",
       "    </tr>\n",
       "  </tbody>\n",
       "</table>\n",
       "</div>"
      ],
      "text/plain": [
       "  movie_id  year                    movie_name\n",
       "1        1  2003               Dinosaur Planet\n",
       "2        2  2004    Isle of Man TT 2004 Review\n",
       "3        3  1997                     Character\n",
       "4        4  1994  Paula Abdul's Get Up & Dance\n",
       "5        5  2004      The Rise and Fall of ECW"
      ]
     },
     "execution_count": 12,
     "metadata": {},
     "output_type": "execute_result"
    }
   ],
   "source": [
    "all_movies_DF.head(5)"
   ]
  },
  {
   "cell_type": "code",
   "execution_count": 17,
   "metadata": {},
   "outputs": [],
   "source": [
    "reader = Reader()\n",
    "readerS = Reader(rating_scale=(1, 5))\n",
    "svd = SVD()"
   ]
  },
  {
   "cell_type": "code",
   "execution_count": 18,
   "metadata": {},
   "outputs": [
    {
     "name": "stderr",
     "output_type": "stream",
     "text": [
      "/anaconda3/envs/pythonData1/lib/python3.6/site-packages/surprise/evaluate.py:66: UserWarning: The evaluate() method is deprecated. Please use model_selection.cross_validate() instead.\n",
      "  'model_selection.cross_validate() instead.', UserWarning)\n",
      "/anaconda3/envs/pythonData1/lib/python3.6/site-packages/surprise/dataset.py:193: UserWarning: Using data.split() or using load_from_folds() without using a CV iterator is now deprecated. \n",
      "  UserWarning)\n"
     ]
    },
    {
     "name": "stdout",
     "output_type": "stream",
     "text": [
      "Evaluating RMSE, MAE of algorithm SVD.\n",
      "\n",
      "------------\n",
      "Fold 1\n",
      "RMSE: 0.9853\n",
      "MAE:  0.7770\n",
      "------------\n",
      "Fold 2\n",
      "RMSE: 0.9887\n",
      "MAE:  0.7804\n",
      "------------\n",
      "Fold 3\n",
      "RMSE: 0.9919\n",
      "MAE:  0.7818\n",
      "------------\n",
      "------------\n",
      "Mean RMSE: 0.9887\n",
      "Mean MAE : 0.7797\n",
      "------------\n",
      "------------\n"
     ]
    }
   ],
   "source": [
    "def PC_Evaluate():\n",
    "    train_movie_data = Dataset.load_from_df(all_ratings_DF[['user_id', 'movie_id', 'rating']][:100000], reader)\n",
    "    train_movie_data.split(n_folds=3)\n",
    "    svd = SVD()\n",
    "    evaluate(svd, train_movie_data, measures=['RMSE', 'MAE'])\n",
    "\n",
    "PC_Evaluate()"
   ]
  },
  {
   "cell_type": "code",
   "execution_count": 24,
   "metadata": {},
   "outputs": [
    {
     "name": "stdout",
     "output_type": "stream",
     "text": [
      "RMSE: 0.9892\n",
      "MAE:  0.7789\n",
      "RMSE :  0.9891856063136696\n",
      "MAE :  0.7788761348011874\n"
     ]
    }
   ],
   "source": [
    "\n",
    "def PC_TrainTest():\n",
    "    reader = Reader()\n",
    "    readerS = Reader(rating_scale=(1, 5))\n",
    "    svd = SVD()\n",
    "    all_ratings_data = Dataset.load_from_df(all_ratings_DF[['user_id', 'movie_id', 'rating']][:100000], reader)\n",
    "    all_ratings_train_data, all_ratings_test_data = train_test_split(all_ratings_data, test_size=.25)\n",
    "\n",
    "          \n",
    "    svd.fit(all_ratings_train_data)\n",
    "    predictions = svd.test(all_ratings_test_data)\n",
    "    RMSE = accuracy.rmse(predictions)\n",
    "    MAE = accuracy.mae(predictions)\n",
    "    print('RMSE : ' ,RMSE)\n",
    "    print('MAE : ' ,MAE)\n",
    "    predictions_DF = pd.DataFrame(predictions)\n",
    "    predictions_DF = predictions_DF.rename(columns={\"uid\": \"user_id\"\n",
    "                               , \"iid\": \"movie_id\"\n",
    "                               , \"r_ui\": \"rating\"\n",
    "                               , \"est\": \"prediction\"\n",
    "                              })\n",
    "    predictions_DF.to_csv('movie_predictions_SVD.csv', index=True, header=True)\n",
    "\n",
    "\n",
    "PC_TrainTest()"
   ]
  },
  {
   "cell_type": "code",
   "execution_count": null,
   "metadata": {},
   "outputs": [],
   "source": [
    "## This step is till WIP\n",
    "def PC_Prediction(user):\n",
    "    data = Dataset.load_from_df(user, reader)\n",
    "    trainset = data.build_full_trainset()\n",
    "    svd.train(trainset)\n",
    "    user_785314['Estimate_Score'] = user_785314['Movie_Id'].apply(lambda x: svd.predict(785314, x).est)"
   ]
  },
  {
   "cell_type": "code",
   "execution_count": null,
   "metadata": {},
   "outputs": [],
   "source": [
    "user = all_ratings_DF[(all_ratings_DF['Cust_Id'] == 785314) & (all_ratings_DF['Rating'] == 5)]"
   ]
  },
  {
   "cell_type": "code",
   "execution_count": null,
   "metadata": {},
   "outputs": [],
   "source": []
  }
 ],
 "metadata": {
  "kernelspec": {
   "display_name": "pythonData1",
   "language": "python",
   "name": "pythondata1"
  },
  "language_info": {
   "codemirror_mode": {
    "name": "ipython",
    "version": 3
   },
   "file_extension": ".py",
   "mimetype": "text/x-python",
   "name": "python",
   "nbconvert_exporter": "python",
   "pygments_lexer": "ipython3",
   "version": "3.6.5"
  }
 },
 "nbformat": 4,
 "nbformat_minor": 2
}
