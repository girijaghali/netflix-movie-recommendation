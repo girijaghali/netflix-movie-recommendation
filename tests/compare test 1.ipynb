{
 "cells": [
  {
   "cell_type": "code",
   "execution_count": 1,
   "metadata": {},
   "outputs": [],
   "source": [
    "import pandas as pd\n",
    "import numpy as np\n",
    "from matplotlib import pyplot as plt\n",
    "from matplotlib.colors import LinearSegmentedColormap as lsc"
   ]
  },
  {
   "cell_type": "code",
   "execution_count": 2,
   "metadata": {},
   "outputs": [
    {
     "data": {
      "text/html": [
       "<div>\n",
       "<style scoped>\n",
       "    .dataframe tbody tr th:only-of-type {\n",
       "        vertical-align: middle;\n",
       "    }\n",
       "\n",
       "    .dataframe tbody tr th {\n",
       "        vertical-align: top;\n",
       "    }\n",
       "\n",
       "    .dataframe thead th {\n",
       "        text-align: right;\n",
       "    }\n",
       "</style>\n",
       "<table border=\"1\" class=\"dataframe\">\n",
       "  <thead>\n",
       "    <tr style=\"text-align: right;\">\n",
       "      <th></th>\n",
       "      <th>movie_id</th>\n",
       "      <th>user_id</th>\n",
       "      <th>rating</th>\n",
       "    </tr>\n",
       "  </thead>\n",
       "  <tbody>\n",
       "    <tr>\n",
       "      <th>0</th>\n",
       "      <td>1</td>\n",
       "      <td>1488844</td>\n",
       "      <td>3</td>\n",
       "    </tr>\n",
       "    <tr>\n",
       "      <th>1</th>\n",
       "      <td>1</td>\n",
       "      <td>822109</td>\n",
       "      <td>5</td>\n",
       "    </tr>\n",
       "    <tr>\n",
       "      <th>2</th>\n",
       "      <td>1</td>\n",
       "      <td>885013</td>\n",
       "      <td>4</td>\n",
       "    </tr>\n",
       "    <tr>\n",
       "      <th>3</th>\n",
       "      <td>1</td>\n",
       "      <td>30878</td>\n",
       "      <td>4</td>\n",
       "    </tr>\n",
       "    <tr>\n",
       "      <th>4</th>\n",
       "      <td>1</td>\n",
       "      <td>823519</td>\n",
       "      <td>3</td>\n",
       "    </tr>\n",
       "  </tbody>\n",
       "</table>\n",
       "</div>"
      ],
      "text/plain": [
       "   movie_id  user_id  rating\n",
       "0         1  1488844       3\n",
       "1         1   822109       5\n",
       "2         1   885013       4\n",
       "3         1    30878       4\n",
       "4         1   823519       3"
      ]
     },
     "execution_count": 2,
     "metadata": {},
     "output_type": "execute_result"
    }
   ],
   "source": [
    "df=pd.read_csv(\"test_data_1.csv\", header=None,names=[\"movie_id\", \"user_id\",\"rating\"])\n",
    "df.head()"
   ]
  },
  {
   "cell_type": "code",
   "execution_count": 3,
   "metadata": {},
   "outputs": [
    {
     "data": {
      "text/html": [
       "<div>\n",
       "<style scoped>\n",
       "    .dataframe tbody tr th:only-of-type {\n",
       "        vertical-align: middle;\n",
       "    }\n",
       "\n",
       "    .dataframe tbody tr th {\n",
       "        vertical-align: top;\n",
       "    }\n",
       "\n",
       "    .dataframe thead th {\n",
       "        text-align: right;\n",
       "    }\n",
       "</style>\n",
       "<table border=\"1\" class=\"dataframe\">\n",
       "  <thead>\n",
       "    <tr style=\"text-align: right;\">\n",
       "      <th></th>\n",
       "      <th>user_id</th>\n",
       "      <th>rating</th>\n",
       "    </tr>\n",
       "  </thead>\n",
       "  <tbody>\n",
       "    <tr>\n",
       "      <th>0</th>\n",
       "      <td>1488844</td>\n",
       "      <td>3</td>\n",
       "    </tr>\n",
       "    <tr>\n",
       "      <th>1</th>\n",
       "      <td>822109</td>\n",
       "      <td>5</td>\n",
       "    </tr>\n",
       "    <tr>\n",
       "      <th>2</th>\n",
       "      <td>885013</td>\n",
       "      <td>4</td>\n",
       "    </tr>\n",
       "    <tr>\n",
       "      <th>3</th>\n",
       "      <td>30878</td>\n",
       "      <td>4</td>\n",
       "    </tr>\n",
       "    <tr>\n",
       "      <th>4</th>\n",
       "      <td>823519</td>\n",
       "      <td>3</td>\n",
       "    </tr>\n",
       "  </tbody>\n",
       "</table>\n",
       "</div>"
      ],
      "text/plain": [
       "   user_id  rating\n",
       "0  1488844       3\n",
       "1   822109       5\n",
       "2   885013       4\n",
       "3    30878       4\n",
       "4   823519       3"
      ]
     },
     "execution_count": 3,
     "metadata": {},
     "output_type": "execute_result"
    }
   ],
   "source": [
    "df1 = df[df[\"movie_id\"]==1].drop([\"movie_id\"],axis=1)\n",
    "df1.head()"
   ]
  },
  {
   "cell_type": "code",
   "execution_count": 4,
   "metadata": {},
   "outputs": [
    {
     "data": {
      "text/html": [
       "<div>\n",
       "<style scoped>\n",
       "    .dataframe tbody tr th:only-of-type {\n",
       "        vertical-align: middle;\n",
       "    }\n",
       "\n",
       "    .dataframe tbody tr th {\n",
       "        vertical-align: top;\n",
       "    }\n",
       "\n",
       "    .dataframe thead th {\n",
       "        text-align: right;\n",
       "    }\n",
       "</style>\n",
       "<table border=\"1\" class=\"dataframe\">\n",
       "  <thead>\n",
       "    <tr style=\"text-align: right;\">\n",
       "      <th></th>\n",
       "      <th>user_id</th>\n",
       "      <th>rating</th>\n",
       "    </tr>\n",
       "  </thead>\n",
       "  <tbody>\n",
       "    <tr>\n",
       "      <th>547</th>\n",
       "      <td>2059652</td>\n",
       "      <td>4</td>\n",
       "    </tr>\n",
       "    <tr>\n",
       "      <th>548</th>\n",
       "      <td>1666394</td>\n",
       "      <td>3</td>\n",
       "    </tr>\n",
       "    <tr>\n",
       "      <th>549</th>\n",
       "      <td>1759415</td>\n",
       "      <td>4</td>\n",
       "    </tr>\n",
       "    <tr>\n",
       "      <th>550</th>\n",
       "      <td>1959936</td>\n",
       "      <td>5</td>\n",
       "    </tr>\n",
       "    <tr>\n",
       "      <th>551</th>\n",
       "      <td>998862</td>\n",
       "      <td>4</td>\n",
       "    </tr>\n",
       "  </tbody>\n",
       "</table>\n",
       "</div>"
      ],
      "text/plain": [
       "     user_id  rating\n",
       "547  2059652       4\n",
       "548  1666394       3\n",
       "549  1759415       4\n",
       "550  1959936       5\n",
       "551   998862       4"
      ]
     },
     "execution_count": 4,
     "metadata": {},
     "output_type": "execute_result"
    }
   ],
   "source": [
    "df2 = df[df[\"movie_id\"]==2].drop([\"movie_id\"],axis=1)\n",
    "df2.head()"
   ]
  },
  {
   "cell_type": "code",
   "execution_count": 5,
   "metadata": {},
   "outputs": [
    {
     "data": {
      "text/html": [
       "<div>\n",
       "<style scoped>\n",
       "    .dataframe tbody tr th:only-of-type {\n",
       "        vertical-align: middle;\n",
       "    }\n",
       "\n",
       "    .dataframe tbody tr th {\n",
       "        vertical-align: top;\n",
       "    }\n",
       "\n",
       "    .dataframe thead th {\n",
       "        text-align: right;\n",
       "    }\n",
       "</style>\n",
       "<table border=\"1\" class=\"dataframe\">\n",
       "  <thead>\n",
       "    <tr style=\"text-align: right;\">\n",
       "      <th></th>\n",
       "      <th>user_id</th>\n",
       "      <th>rating_x</th>\n",
       "      <th>rating_y</th>\n",
       "    </tr>\n",
       "  </thead>\n",
       "  <tbody>\n",
       "    <tr>\n",
       "      <th>0</th>\n",
       "      <td>1488844</td>\n",
       "      <td>3.0</td>\n",
       "      <td>NaN</td>\n",
       "    </tr>\n",
       "    <tr>\n",
       "      <th>1</th>\n",
       "      <td>822109</td>\n",
       "      <td>5.0</td>\n",
       "      <td>NaN</td>\n",
       "    </tr>\n",
       "    <tr>\n",
       "      <th>2</th>\n",
       "      <td>885013</td>\n",
       "      <td>4.0</td>\n",
       "      <td>NaN</td>\n",
       "    </tr>\n",
       "    <tr>\n",
       "      <th>3</th>\n",
       "      <td>30878</td>\n",
       "      <td>4.0</td>\n",
       "      <td>NaN</td>\n",
       "    </tr>\n",
       "    <tr>\n",
       "      <th>4</th>\n",
       "      <td>823519</td>\n",
       "      <td>3.0</td>\n",
       "      <td>NaN</td>\n",
       "    </tr>\n",
       "    <tr>\n",
       "      <th>5</th>\n",
       "      <td>893988</td>\n",
       "      <td>3.0</td>\n",
       "      <td>NaN</td>\n",
       "    </tr>\n",
       "    <tr>\n",
       "      <th>6</th>\n",
       "      <td>124105</td>\n",
       "      <td>4.0</td>\n",
       "      <td>NaN</td>\n",
       "    </tr>\n",
       "    <tr>\n",
       "      <th>7</th>\n",
       "      <td>1248029</td>\n",
       "      <td>3.0</td>\n",
       "      <td>NaN</td>\n",
       "    </tr>\n",
       "    <tr>\n",
       "      <th>8</th>\n",
       "      <td>1842128</td>\n",
       "      <td>4.0</td>\n",
       "      <td>NaN</td>\n",
       "    </tr>\n",
       "    <tr>\n",
       "      <th>9</th>\n",
       "      <td>2238063</td>\n",
       "      <td>3.0</td>\n",
       "      <td>NaN</td>\n",
       "    </tr>\n",
       "  </tbody>\n",
       "</table>\n",
       "</div>"
      ],
      "text/plain": [
       "   user_id  rating_x  rating_y\n",
       "0  1488844       3.0       NaN\n",
       "1   822109       5.0       NaN\n",
       "2   885013       4.0       NaN\n",
       "3    30878       4.0       NaN\n",
       "4   823519       3.0       NaN\n",
       "5   893988       3.0       NaN\n",
       "6   124105       4.0       NaN\n",
       "7  1248029       3.0       NaN\n",
       "8  1842128       4.0       NaN\n",
       "9  2238063       3.0       NaN"
      ]
     },
     "execution_count": 5,
     "metadata": {},
     "output_type": "execute_result"
    }
   ],
   "source": [
    "df_join = df1.merge(df2, on=\"user_id\",how=\"outer\")\n",
    "df_join.head(10)"
   ]
  },
  {
   "cell_type": "code",
   "execution_count": 6,
   "metadata": {},
   "outputs": [
    {
     "data": {
      "text/html": [
       "<div>\n",
       "<style scoped>\n",
       "    .dataframe tbody tr th:only-of-type {\n",
       "        vertical-align: middle;\n",
       "    }\n",
       "\n",
       "    .dataframe tbody tr th {\n",
       "        vertical-align: top;\n",
       "    }\n",
       "\n",
       "    .dataframe thead th {\n",
       "        text-align: right;\n",
       "    }\n",
       "</style>\n",
       "<table border=\"1\" class=\"dataframe\">\n",
       "  <thead>\n",
       "    <tr style=\"text-align: right;\">\n",
       "      <th></th>\n",
       "      <th>user_id</th>\n",
       "      <th>rating_x</th>\n",
       "      <th>rating_y</th>\n",
       "    </tr>\n",
       "  </thead>\n",
       "  <tbody>\n",
       "    <tr>\n",
       "      <th>93</th>\n",
       "      <td>636262</td>\n",
       "      <td>1.0</td>\n",
       "      <td>1.0</td>\n",
       "    </tr>\n",
       "    <tr>\n",
       "      <th>101</th>\n",
       "      <td>2439493</td>\n",
       "      <td>1.0</td>\n",
       "      <td>1.0</td>\n",
       "    </tr>\n",
       "    <tr>\n",
       "      <th>163</th>\n",
       "      <td>1374216</td>\n",
       "      <td>2.0</td>\n",
       "      <td>1.0</td>\n",
       "    </tr>\n",
       "    <tr>\n",
       "      <th>216</th>\n",
       "      <td>1664010</td>\n",
       "      <td>5.0</td>\n",
       "      <td>4.0</td>\n",
       "    </tr>\n",
       "    <tr>\n",
       "      <th>327</th>\n",
       "      <td>305344</td>\n",
       "      <td>1.0</td>\n",
       "      <td>1.0</td>\n",
       "    </tr>\n",
       "    <tr>\n",
       "      <th>417</th>\n",
       "      <td>1398626</td>\n",
       "      <td>2.0</td>\n",
       "      <td>3.0</td>\n",
       "    </tr>\n",
       "    <tr>\n",
       "      <th>434</th>\n",
       "      <td>1806515</td>\n",
       "      <td>3.0</td>\n",
       "      <td>3.0</td>\n",
       "    </tr>\n",
       "    <tr>\n",
       "      <th>436</th>\n",
       "      <td>2118461</td>\n",
       "      <td>5.0</td>\n",
       "      <td>4.0</td>\n",
       "    </tr>\n",
       "    <tr>\n",
       "      <th>442</th>\n",
       "      <td>387418</td>\n",
       "      <td>1.0</td>\n",
       "      <td>1.0</td>\n",
       "    </tr>\n",
       "    <tr>\n",
       "      <th>516</th>\n",
       "      <td>515436</td>\n",
       "      <td>1.0</td>\n",
       "      <td>1.0</td>\n",
       "    </tr>\n",
       "  </tbody>\n",
       "</table>\n",
       "</div>"
      ],
      "text/plain": [
       "     user_id  rating_x  rating_y\n",
       "93    636262       1.0       1.0\n",
       "101  2439493       1.0       1.0\n",
       "163  1374216       2.0       1.0\n",
       "216  1664010       5.0       4.0\n",
       "327   305344       1.0       1.0\n",
       "417  1398626       2.0       3.0\n",
       "434  1806515       3.0       3.0\n",
       "436  2118461       5.0       4.0\n",
       "442   387418       1.0       1.0\n",
       "516   515436       1.0       1.0"
      ]
     },
     "execution_count": 6,
     "metadata": {},
     "output_type": "execute_result"
    }
   ],
   "source": [
    "df_join.dropna()"
   ]
  },
  {
   "cell_type": "code",
   "execution_count": 7,
   "metadata": {},
   "outputs": [],
   "source": [
    "x1=list(df_join.dropna()[\"rating_x\"])\n",
    "x2=list(df_join.dropna()[\"rating_y\"])"
   ]
  },
  {
   "cell_type": "code",
   "execution_count": 8,
   "metadata": {},
   "outputs": [
    {
     "data": {
      "text/plain": [
       "[1.0, 1.0, 2.0, 5.0, 1.0, 2.0, 3.0, 5.0, 1.0, 1.0]"
      ]
     },
     "execution_count": 8,
     "metadata": {},
     "output_type": "execute_result"
    }
   ],
   "source": [
    "x1"
   ]
  },
  {
   "cell_type": "code",
   "execution_count": 9,
   "metadata": {},
   "outputs": [
    {
     "data": {
      "text/plain": [
       "[1.0, 1.0, 1.0, 4.0, 1.0, 3.0, 3.0, 4.0, 1.0, 1.0]"
      ]
     },
     "execution_count": 9,
     "metadata": {},
     "output_type": "execute_result"
    }
   ],
   "source": [
    "x2"
   ]
  },
  {
   "cell_type": "code",
   "execution_count": 10,
   "metadata": {},
   "outputs": [
    {
     "data": {
      "image/png": "[encoded data removed]",
      "text/plain": [
       "<Figure size 360x360 with 1 Axes>"
      ]
     },
     "metadata": {},
     "output_type": "display_data"
    }
   ],
   "source": [
    "plt.figure(figsize=(5,5))\n",
    "plt.scatter(x1,x2,alpha=0.2,marker=\"s\",s=2500)\n",
    "plt.xlim(0.5,5.5)\n",
    "plt.ylim(0.5,5.5)\n",
    "plt.xlabel(\"Dinosaur Planet\")\n",
    "plt.ylabel(\"Isle of Man TT 2004 Review\")\n",
    "plt.show()"
   ]
  },
  {
   "cell_type": "code",
   "execution_count": 11,
   "metadata": {},
   "outputs": [],
   "source": [
    "x1a=list(df_join.fillna(0)[\"rating_x\"])\n",
    "x2a=list(df_join.fillna(0)[\"rating_y\"])"
   ]
  },
  {
   "cell_type": "code",
   "execution_count": 12,
   "metadata": {},
   "outputs": [
    {
     "data": {
      "image/png": "[encoded data removed]",
      "text/plain": [
       "<Figure size 432x432 with 1 Axes>"
      ]
     },
     "metadata": {},
     "output_type": "display_data"
    }
   ],
   "source": [
    "plt.figure(figsize=(6,6))\n",
    "plt.scatter(x1a,x2a,alpha=0.01,marker=\"s\",s=2500,c=\"r\")\n",
    "plt.scatter(x1,x2,alpha=0.2,marker=\"s\",s=2500)\n",
    "plt.xlim(-0.5,5.5)\n",
    "plt.ylim(-0.5,5.5)\n",
    "plt.xlabel(\"Dinosaur Planet\")\n",
    "plt.ylabel(\"Isle of Man TT 2004 Review\")\n",
    "plt.show()"
   ]
  },
  {
   "cell_type": "code",
   "execution_count": 13,
   "metadata": {},
   "outputs": [
    {
     "data": {
      "text/html": [
       "<div>\n",
       "<style scoped>\n",
       "    .dataframe tbody tr th:only-of-type {\n",
       "        vertical-align: middle;\n",
       "    }\n",
       "\n",
       "    .dataframe tbody tr th {\n",
       "        vertical-align: top;\n",
       "    }\n",
       "\n",
       "    .dataframe thead th {\n",
       "        text-align: right;\n",
       "    }\n",
       "</style>\n",
       "<table border=\"1\" class=\"dataframe\">\n",
       "  <thead>\n",
       "    <tr style=\"text-align: right;\">\n",
       "      <th></th>\n",
       "      <th>movie_id</th>\n",
       "      <th>year</th>\n",
       "      <th>title</th>\n",
       "    </tr>\n",
       "  </thead>\n",
       "  <tbody>\n",
       "    <tr>\n",
       "      <th>0</th>\n",
       "      <td>1</td>\n",
       "      <td>2003.0</td>\n",
       "      <td>Dinosaur Planet</td>\n",
       "    </tr>\n",
       "    <tr>\n",
       "      <th>1</th>\n",
       "      <td>2</td>\n",
       "      <td>2004.0</td>\n",
       "      <td>Isle of Man TT 2004 Review</td>\n",
       "    </tr>\n",
       "    <tr>\n",
       "      <th>2</th>\n",
       "      <td>3</td>\n",
       "      <td>1997.0</td>\n",
       "      <td>Character</td>\n",
       "    </tr>\n",
       "    <tr>\n",
       "      <th>3</th>\n",
       "      <td>4</td>\n",
       "      <td>1994.0</td>\n",
       "      <td>Paula Abdul's Get Up &amp; Dance</td>\n",
       "    </tr>\n",
       "    <tr>\n",
       "      <th>4</th>\n",
       "      <td>5</td>\n",
       "      <td>2004.0</td>\n",
       "      <td>The Rise and Fall of ECW</td>\n",
       "    </tr>\n",
       "  </tbody>\n",
       "</table>\n",
       "</div>"
      ],
      "text/plain": [
       "   movie_id    year                         title\n",
       "0         1  2003.0               Dinosaur Planet\n",
       "1         2  2004.0    Isle of Man TT 2004 Review\n",
       "2         3  1997.0                     Character\n",
       "3         4  1994.0  Paula Abdul's Get Up & Dance\n",
       "4         5  2004.0      The Rise and Fall of ECW"
      ]
     },
     "execution_count": 13,
     "metadata": {},
     "output_type": "execute_result"
    }
   ],
   "source": [
    "titles_df = pd.read_csv(\"../movie_titles.csv\",header = None, names = ['movie_id', 'year', 'title'], usecols=[0,1,2],encoding = \"ISO-8859-1\")\n",
    "titles_df.head()"
   ]
  },
  {
   "cell_type": "code",
   "execution_count": 14,
   "metadata": {},
   "outputs": [
    {
     "data": {
      "text/plain": [
       "'Open Hearts'"
      ]
     },
     "execution_count": 14,
     "metadata": {},
     "output_type": "execute_result"
    }
   ],
   "source": [
    "titles_df[titles_df.movie_id==4501].iloc[0].title"
   ]
  },
  {
   "cell_type": "code",
   "execution_count": 15,
   "metadata": {},
   "outputs": [],
   "source": [
    "def plot_compare(df, col1=\"rating_x\",col2=\"rating_y\",use_na=True, alpha_main=0.2, alpha_na=0.01,xlabel=\"\",ylabel=\"\"):\n",
    "    x1=list(df.dropna()[col1])\n",
    "    x2=list(df.dropna()[col2])\n",
    "    \n",
    "    size = 6 if use_na else 5\n",
    "    plt.figure(figsize=(size,size))\n",
    "    \n",
    "    if use_na:\n",
    "        x1a=list(df.fillna(0)[col1])\n",
    "        x2a=list(df.fillna(0)[col2])\n",
    "        plt.scatter(x1a,x2a,alpha=alpha_na,marker=\"s\",s=2500,c=\"r\")\n",
    "        \n",
    "    plt.scatter(x1,x2,alpha=alpha_main,marker=\"s\",s=2500)\n",
    "    plt.xlim(5.5-size,5.5)\n",
    "    plt.ylim(5.5-size,5.5)\n",
    "    plt.xlabel(xlabel)\n",
    "    plt.ylabel(ylabel)\n",
    "    plt.show()"
   ]
  },
  {
   "cell_type": "code",
   "execution_count": 16,
   "metadata": {},
   "outputs": [
    {
     "data": {
      "image/png": "[encoded data removed]",
      "text/plain": [
       "<Figure size 432x432 with 1 Axes>"
      ]
     },
     "metadata": {},
     "output_type": "display_data"
    }
   ],
   "source": [
    "plot_compare(df_join,use_na=True,alpha_na=0.005)"
   ]
  },
  {
   "cell_type": "code",
   "execution_count": 17,
   "metadata": {},
   "outputs": [],
   "source": [
    "def jitter(input_list, amount=0.7):\n",
    "    return np.random.sample([len(input_list)])*amount+np.array(input_list)-amount/2"
   ]
  },
  {
   "cell_type": "code",
   "execution_count": 18,
   "metadata": {},
   "outputs": [
    {
     "data": {
      "image/png": "[encoded data removed]",
      "text/plain": [
       "<Figure size 432x432 with 1 Axes>"
      ]
     },
     "metadata": {},
     "output_type": "display_data"
    }
   ],
   "source": [
    "plt.figure(figsize=(6,6))\n",
    "plt.scatter(jitter(x1a),jitter(x2a),alpha=0.4,marker=\"o\",s=10,c=\"r\",linewidths=0)\n",
    "plt.scatter(jitter(x1),jitter(x2),alpha=0.5,marker=\"o\",s=30,linewidths=0)\n",
    "plt.xlim(-0.5,5.5)\n",
    "plt.ylim(-0.5,5.5)\n",
    "plt.xlabel(\"Dinosaur Planet\")\n",
    "plt.ylabel(\"Isle of Man TT 2004 Review\")\n",
    "plt.show()"
   ]
  },
  {
   "cell_type": "code",
   "execution_count": 19,
   "metadata": {},
   "outputs": [
    {
     "data": {
      "text/plain": [
       "(4.0, 0.0)    207\n",
       "(5.0, 0.0)    143\n",
       "(3.0, 0.0)    135\n",
       "(0.0, 5.0)     41\n",
       "(0.0, 4.0)     40\n",
       "(0.0, 3.0)     33\n",
       "(2.0, 0.0)     29\n",
       "(1.0, 0.0)     23\n",
       "(0.0, 2.0)     11\n",
       "(0.0, 1.0)     10\n",
       "(1.0, 1.0)      5\n",
       "(5.0, 4.0)      2\n",
       "(2.0, 3.0)      1\n",
       "(3.0, 3.0)      1\n",
       "(2.0, 1.0)      1\n",
       "dtype: int64"
      ]
     },
     "execution_count": 19,
     "metadata": {},
     "output_type": "execute_result"
    }
   ],
   "source": [
    "dfs=pd.Series([(x1a[i],x2a[i]) for i in np.arange(len(x1a))]).value_counts()\n",
    "dfs"
   ]
  },
  {
   "cell_type": "code",
   "execution_count": 20,
   "metadata": {},
   "outputs": [],
   "source": [
    "def get_title(df, movie_id):\n",
    "    return df[df.movie_id==movie_id].iloc[0].title"
   ]
  },
  {
   "cell_type": "code",
   "execution_count": 21,
   "metadata": {},
   "outputs": [],
   "source": [
    "def plot_compare_df(df, id1, id2, use_na=True, alpha_main=0.2, alpha_na=0.01, title_ref = None):\n",
    "    df1 = df[df[\"movie_id\"]==id1].drop([\"movie_id\"],axis=1)\n",
    "    df2 = df[df[\"movie_id\"]==id2].drop([\"movie_id\"],axis=1)\n",
    "    df_join = df1.merge(df2, on=\"user_id\",how=\"outer\")\n",
    "    \n",
    "    xlabel, ylabel = \"\",\"\"\n",
    "    if title_ref is not None:\n",
    "        xlabel = get_title(title_ref, id1)\n",
    "        ylabel = get_title(title_ref, id2)\n",
    "    \n",
    "    plot_compare(df_join, use_na=use_na, alpha_main=alpha_main, alpha_na=alpha_na, xlabel=xlabel, ylabel=ylabel)"
   ]
  },
  {
   "cell_type": "code",
   "execution_count": 22,
   "metadata": {},
   "outputs": [
    {
     "data": {
      "image/png": "[encoded data removed]",
      "text/plain": [
       "<Figure size 432x432 with 1 Axes>"
      ]
     },
     "metadata": {},
     "output_type": "display_data"
    }
   ],
   "source": [
    "plot_compare_df(df, 1,2,alpha_na=0.006)"
   ]
  },
  {
   "cell_type": "code",
   "execution_count": 23,
   "metadata": {},
   "outputs": [
    {
     "data": {
      "text/html": [
       "<div>\n",
       "<style scoped>\n",
       "    .dataframe tbody tr th:only-of-type {\n",
       "        vertical-align: middle;\n",
       "    }\n",
       "\n",
       "    .dataframe tbody tr th {\n",
       "        vertical-align: top;\n",
       "    }\n",
       "\n",
       "    .dataframe thead th {\n",
       "        text-align: right;\n",
       "    }\n",
       "</style>\n",
       "<table border=\"1\" class=\"dataframe\">\n",
       "  <thead>\n",
       "    <tr style=\"text-align: right;\">\n",
       "      <th></th>\n",
       "      <th>user_id</th>\n",
       "      <th>rating_x</th>\n",
       "      <th>rating_y</th>\n",
       "    </tr>\n",
       "  </thead>\n",
       "  <tbody>\n",
       "    <tr>\n",
       "      <th>93</th>\n",
       "      <td>636262</td>\n",
       "      <td>1.0</td>\n",
       "      <td>1.0</td>\n",
       "    </tr>\n",
       "    <tr>\n",
       "      <th>101</th>\n",
       "      <td>2439493</td>\n",
       "      <td>1.0</td>\n",
       "      <td>1.0</td>\n",
       "    </tr>\n",
       "    <tr>\n",
       "      <th>327</th>\n",
       "      <td>305344</td>\n",
       "      <td>1.0</td>\n",
       "      <td>1.0</td>\n",
       "    </tr>\n",
       "    <tr>\n",
       "      <th>442</th>\n",
       "      <td>387418</td>\n",
       "      <td>1.0</td>\n",
       "      <td>1.0</td>\n",
       "    </tr>\n",
       "    <tr>\n",
       "      <th>516</th>\n",
       "      <td>515436</td>\n",
       "      <td>1.0</td>\n",
       "      <td>1.0</td>\n",
       "    </tr>\n",
       "  </tbody>\n",
       "</table>\n",
       "</div>"
      ],
      "text/plain": [
       "     user_id  rating_x  rating_y\n",
       "93    636262       1.0       1.0\n",
       "101  2439493       1.0       1.0\n",
       "327   305344       1.0       1.0\n",
       "442   387418       1.0       1.0\n",
       "516   515436       1.0       1.0"
      ]
     },
     "execution_count": 23,
     "metadata": {},
     "output_type": "execute_result"
    }
   ],
   "source": [
    "df_join.loc[(df_join.rating_x==1)&(df_join.rating_y==1)]"
   ]
  },
  {
   "cell_type": "code",
   "execution_count": 24,
   "metadata": {},
   "outputs": [],
   "source": [
    "def get_compare_counts(df, col1=\"rating_x\", col2=\"rating_y\"):\n",
    "    df_fill = df.fillna(0)\n",
    "    output = []\n",
    "    for i in range(6):\n",
    "        for j in range(6):\n",
    "            n = len(df_fill[(df_fill[col1]==i)&(df_fill[col2]==j)])\n",
    "            output.append([i,j,n])\n",
    "    return output"
   ]
  },
  {
   "cell_type": "code",
   "execution_count": 25,
   "metadata": {},
   "outputs": [],
   "source": [
    "def get_compare_counts_df(df, id1, id2):\n",
    "    df1 = df[df[\"movie_id\"]==id1].drop([\"movie_id\"],axis=1)\n",
    "    df2 = df[df[\"movie_id\"]==id2].drop([\"movie_id\"],axis=1)\n",
    "    df_join = df1.merge(df2, on=\"user_id\",how=\"outer\")\n",
    "    \n",
    "    return get_compare_counts(df_join)"
   ]
  },
  {
   "cell_type": "code",
   "execution_count": 26,
   "metadata": {
    "scrolled": true
   },
   "outputs": [
    {
     "data": {
      "text/plain": [
       "[(0,\n",
       "  0,\n",
       "  0,\n",
       "  0,\n",
       "  0,\n",
       "  0,\n",
       "  1,\n",
       "  1,\n",
       "  1,\n",
       "  1,\n",
       "  1,\n",
       "  1,\n",
       "  2,\n",
       "  2,\n",
       "  2,\n",
       "  2,\n",
       "  2,\n",
       "  2,\n",
       "  3,\n",
       "  3,\n",
       "  3,\n",
       "  3,\n",
       "  3,\n",
       "  3,\n",
       "  4,\n",
       "  4,\n",
       "  4,\n",
       "  4,\n",
       "  4,\n",
       "  4,\n",
       "  5,\n",
       "  5,\n",
       "  5,\n",
       "  5,\n",
       "  5,\n",
       "  5),\n",
       " (0,\n",
       "  1,\n",
       "  2,\n",
       "  3,\n",
       "  4,\n",
       "  5,\n",
       "  0,\n",
       "  1,\n",
       "  2,\n",
       "  3,\n",
       "  4,\n",
       "  5,\n",
       "  0,\n",
       "  1,\n",
       "  2,\n",
       "  3,\n",
       "  4,\n",
       "  5,\n",
       "  0,\n",
       "  1,\n",
       "  2,\n",
       "  3,\n",
       "  4,\n",
       "  5,\n",
       "  0,\n",
       "  1,\n",
       "  2,\n",
       "  3,\n",
       "  4,\n",
       "  5,\n",
       "  0,\n",
       "  1,\n",
       "  2,\n",
       "  3,\n",
       "  4,\n",
       "  5),\n",
       " (0,\n",
       "  10,\n",
       "  11,\n",
       "  33,\n",
       "  40,\n",
       "  41,\n",
       "  23,\n",
       "  5,\n",
       "  0,\n",
       "  0,\n",
       "  0,\n",
       "  0,\n",
       "  29,\n",
       "  1,\n",
       "  0,\n",
       "  1,\n",
       "  0,\n",
       "  0,\n",
       "  135,\n",
       "  0,\n",
       "  0,\n",
       "  1,\n",
       "  0,\n",
       "  0,\n",
       "  207,\n",
       "  0,\n",
       "  0,\n",
       "  0,\n",
       "  0,\n",
       "  0,\n",
       "  143,\n",
       "  0,\n",
       "  0,\n",
       "  0,\n",
       "  2,\n",
       "  0)]"
      ]
     },
     "execution_count": 26,
     "metadata": {},
     "output_type": "execute_result"
    }
   ],
   "source": [
    "list(zip(*get_compare_counts(df_join)))"
   ]
  },
  {
   "cell_type": "code",
   "execution_count": 27,
   "metadata": {},
   "outputs": [],
   "source": [
    "count_nz=[x for x in get_compare_counts(df_join) if x[0]*x[1]>0]\n",
    "count_na=[x for x in get_compare_counts(df_join) if x[0]*x[1]==0]"
   ]
  },
  {
   "cell_type": "code",
   "execution_count": 28,
   "metadata": {},
   "outputs": [],
   "source": [
    "[x1_nz, x2_nz, n_nz] = list(zip(*count_nz))\n",
    "[x1_na, x2_na, n_na] = list(zip(*count_na))"
   ]
  },
  {
   "cell_type": "code",
   "execution_count": 29,
   "metadata": {},
   "outputs": [
    {
     "data": {
      "image/png": "[encoded data removed]",
      "text/plain": [
       "<Figure size 432x432 with 1 Axes>"
      ]
     },
     "metadata": {},
     "output_type": "display_data"
    }
   ],
   "source": [
    "plt.figure(figsize=(6,6))\n",
    "\n",
    "cmap_na = lsc.from_list(\"\", [\"white\",\"red\"])\n",
    "cmap_nz = lsc.from_list(\"\", [\"white\",(.2,.4,.9,1)])\n",
    "\n",
    "plt.scatter(x1_na,x2_na,c=[x/max(n_na+(1,)) for x in n_na],cmap=cmap_na,marker=\"s\",s=2500)\n",
    "plt.scatter(x1_nz,x2_nz,c=[x/max(n_nz+(1,)) for x in n_nz],cmap=cmap_nz,marker=\"s\",s=2500)\n",
    "\n",
    "# These look kinda weird. \n",
    "for i in range(len(x1_na)):\n",
    "    plt.scatter(x1_na[i],x2_na[i],c=\"black\",marker=f\"${n_na[i]}$\" if n_na[i]>0 else \"\",s=800,alpha=0.8)\n",
    "for i in range(len(x1_nz)):\n",
    "    plt.scatter(x1_nz[i],x2_nz[i],c=\"black\",marker=f\"${n_nz[i]}$\" if n_nz[i]>0 else \"\",s=800,alpha=0.8)\n",
    "\n",
    "plt.xlim(-0.5,5.5)\n",
    "plt.ylim(-0.5,5.5)\n",
    "plt.xlabel(\"Dinosaur Planet\")\n",
    "plt.ylabel(\"Isle of Man TT 2004 Review\")\n",
    "plt.show()"
   ]
  },
  {
   "cell_type": "code",
   "execution_count": 30,
   "metadata": {
    "scrolled": true
   },
   "outputs": [],
   "source": [
    "df_big = pd.read_csv(\"../all_ratings.csv\",skiprows=(lambda x: x>10000))"
   ]
  },
  {
   "cell_type": "code",
   "execution_count": 31,
   "metadata": {},
   "outputs": [
    {
     "data": {
      "text/plain": [
       "4506    6850\n",
       "4503    1779\n",
       "4501     595\n",
       "4500     258\n",
       "4505     238\n",
       "4504     176\n",
       "4502     104\n",
       "Name: movie_id, dtype: int64"
      ]
     },
     "execution_count": 31,
     "metadata": {},
     "output_type": "execute_result"
    }
   ],
   "source": [
    "df_big.movie_id.value_counts()"
   ]
  },
  {
   "cell_type": "code",
   "execution_count": 32,
   "metadata": {},
   "outputs": [
    {
     "data": {
      "image/png": "[encoded data removed]",
      "text/plain": [
       "<Figure size 432x432 with 1 Axes>"
      ]
     },
     "metadata": {},
     "output_type": "display_data"
    }
   ],
   "source": [
    "plot_compare_df(df_big,4502,4503)"
   ]
  },
  {
   "cell_type": "code",
   "execution_count": 33,
   "metadata": {
    "scrolled": true
   },
   "outputs": [
    {
     "data": {
      "text/plain": [
       "[[0, 0, 0],\n",
       " [0, 1, 25],\n",
       " [0, 2, 16],\n",
       " [0, 3, 55],\n",
       " [0, 4, 43],\n",
       " [0, 5, 27],\n",
       " [1, 0, 31],\n",
       " [1, 1, 3],\n",
       " [1, 2, 0],\n",
       " [1, 3, 1],\n",
       " [1, 4, 1],\n",
       " [1, 5, 0],\n",
       " [2, 0, 34],\n",
       " [2, 1, 0],\n",
       " [2, 2, 1],\n",
       " [2, 3, 2],\n",
       " [2, 4, 0],\n",
       " [2, 5, 0],\n",
       " [3, 0, 14],\n",
       " [3, 1, 0],\n",
       " [3, 2, 0],\n",
       " [3, 3, 0],\n",
       " [3, 4, 2],\n",
       " [3, 5, 0],\n",
       " [4, 0, 10],\n",
       " [4, 1, 0],\n",
       " [4, 2, 0],\n",
       " [4, 3, 0],\n",
       " [4, 4, 0],\n",
       " [4, 5, 0],\n",
       " [5, 0, 5],\n",
       " [5, 1, 0],\n",
       " [5, 2, 0],\n",
       " [5, 3, 0],\n",
       " [5, 4, 0],\n",
       " [5, 5, 0]]"
      ]
     },
     "execution_count": 33,
     "metadata": {},
     "output_type": "execute_result"
    }
   ],
   "source": [
    "get_compare_counts_df(df_big,4502,4504)"
   ]
  },
  {
   "cell_type": "code",
   "execution_count": 34,
   "metadata": {},
   "outputs": [],
   "source": [
    "def rough_correl_v1(df, id1, id2):\n",
    "    c = get_compare_counts_df(df, id1, id2)\n",
    "    total = sum([x[2] for x in c if x[0]*x[1]>0])\n",
    "    if total == 0:\n",
    "        return (0,0)\n",
    "    pos_c = sum([c[i][2] for i in [7,8,13,14, 28,29,34,35]])\n",
    "    neg_c = sum([c[i][2] for i in [10,11,16,17, 25,26,31,32]])\n",
    "    result = (pos_c-neg_c)/total\n",
    "    return (result, total)"
   ]
  },
  {
   "cell_type": "code",
   "execution_count": 35,
   "metadata": {},
   "outputs": [],
   "source": [
    "blah= get_compare_counts_df(df_big,4502,4504)"
   ]
  },
  {
   "cell_type": "code",
   "execution_count": 36,
   "metadata": {},
   "outputs": [
    {
     "data": {
      "text/plain": [
       "10"
      ]
     },
     "execution_count": 36,
     "metadata": {},
     "output_type": "execute_result"
    }
   ],
   "source": [
    "sum([x[2] for x in blah if x[0]*x[1]>0])"
   ]
  },
  {
   "cell_type": "code",
   "execution_count": 37,
   "metadata": {
    "scrolled": true
   },
   "outputs": [
    {
     "data": {
      "text/plain": [
       "[(0, [0, 0, 0]),\n",
       " (1, [0, 1, 25]),\n",
       " (2, [0, 2, 16]),\n",
       " (3, [0, 3, 55]),\n",
       " (4, [0, 4, 43]),\n",
       " (5, [0, 5, 27]),\n",
       " (6, [1, 0, 31]),\n",
       " (7, [1, 1, 3]),\n",
       " (8, [1, 2, 0]),\n",
       " (9, [1, 3, 1]),\n",
       " (10, [1, 4, 1]),\n",
       " (11, [1, 5, 0]),\n",
       " (12, [2, 0, 34]),\n",
       " (13, [2, 1, 0]),\n",
       " (14, [2, 2, 1]),\n",
       " (15, [2, 3, 2]),\n",
       " (16, [2, 4, 0]),\n",
       " (17, [2, 5, 0]),\n",
       " (18, [3, 0, 14]),\n",
       " (19, [3, 1, 0]),\n",
       " (20, [3, 2, 0]),\n",
       " (21, [3, 3, 0]),\n",
       " (22, [3, 4, 2]),\n",
       " (23, [3, 5, 0]),\n",
       " (24, [4, 0, 10]),\n",
       " (25, [4, 1, 0]),\n",
       " (26, [4, 2, 0]),\n",
       " (27, [4, 3, 0]),\n",
       " (28, [4, 4, 0]),\n",
       " (29, [4, 5, 0]),\n",
       " (30, [5, 0, 5]),\n",
       " (31, [5, 1, 0]),\n",
       " (32, [5, 2, 0]),\n",
       " (33, [5, 3, 0]),\n",
       " (34, [5, 4, 0]),\n",
       " (35, [5, 5, 0])]"
      ]
     },
     "execution_count": 37,
     "metadata": {},
     "output_type": "execute_result"
    }
   ],
   "source": [
    "[(i,blah[i]) for i in range(len(blah))]"
   ]
  },
  {
   "cell_type": "code",
   "execution_count": 38,
   "metadata": {},
   "outputs": [
    {
     "data": {
      "text/plain": [
       "(0.3, 10)"
      ]
     },
     "execution_count": 38,
     "metadata": {},
     "output_type": "execute_result"
    }
   ],
   "source": [
    "rough_correl_v1(df_big, 4502,4504)"
   ]
  },
  {
   "cell_type": "code",
   "execution_count": 39,
   "metadata": {},
   "outputs": [
    {
     "data": {
      "text/plain": [
       "(0.7741605839416058, 6850)"
      ]
     },
     "execution_count": 39,
     "metadata": {},
     "output_type": "execute_result"
    }
   ],
   "source": [
    "rough_correl_v1(df_big, 4506,4506)"
   ]
  },
  {
   "cell_type": "code",
   "execution_count": 40,
   "metadata": {},
   "outputs": [
    {
     "name": "stdout",
     "output_type": "stream",
     "text": [
      "4500 x 4501: (0.6666666666666666, 12)\n",
      "4500 x 4502: (0.7142857142857143, 7)\n",
      "4500 x 4503: (0.21428571428571427, 28)\n",
      "4500 x 4504: (0.8181818181818182, 11)\n",
      "4500 x 4505: (0.0, 1)\n",
      "4500 x 4506: (0.14285714285714285, 21)\n",
      "4501 x 4502: (0.5714285714285714, 7)\n",
      "4501 x 4503: (0.375, 24)\n",
      "4501 x 4504: (0.5555555555555556, 9)\n",
      "4501 x 4505: (-0.6666666666666666, 3)\n",
      "4501 x 4506: (0.2608695652173913, 23)\n",
      "4502 x 4503: (0.46153846153846156, 13)\n",
      "4502 x 4504: (0.3, 10)\n",
      "4502 x 4505: (0.4, 5)\n",
      "4502 x 4506: (0.0, 4)\n",
      "4503 x 4504: (0.4583333333333333, 24)\n",
      "4503 x 4505: (0.6666666666666666, 3)\n",
      "4503 x 4506: (0.1921182266009852, 203)\n",
      "4504 x 4505: (0, 0)\n",
      "4504 x 4506: (0.45454545454545453, 11)\n",
      "4505 x 4506: (-0.6, 5)\n"
     ]
    }
   ],
   "source": [
    "for i in range(4500,4506):\n",
    "    for j in range(i+1,4507):\n",
    "        print(f\"{i} x {j}: {rough_correl_v1(df_big, i,j)}\")"
   ]
  },
  {
   "cell_type": "code",
   "execution_count": 41,
   "metadata": {},
   "outputs": [
    {
     "data": {
      "image/png": "[encoded data removed]",
      "text/plain": [
       "<Figure size 432x432 with 1 Axes>"
      ]
     },
     "metadata": {},
     "output_type": "display_data"
    },
    {
     "name": "stdout",
     "output_type": "stream",
     "text": [
      "Correlation, Samples: (0.375, 24)\n"
     ]
    }
   ],
   "source": [
    "plot_compare_df(df_big,4501,4503,title_ref=titles_df)\n",
    "print(f\"Correlation, Samples: {rough_correl_v1(df_big, 4501, 4503)}\")"
   ]
  },
  {
   "cell_type": "code",
   "execution_count": 42,
   "metadata": {},
   "outputs": [
    {
     "name": "stdout",
     "output_type": "stream",
     "text": [
      "4500 x 4500: (0.6976744186046512, 258)\n",
      "4501 x 4501: (0.6369747899159663, 595)\n",
      "4502 x 4502: (0.8461538461538461, 104)\n",
      "4503 x 4503: (0.5941540191118606, 1779)\n",
      "4504 x 4504: (0.6704545454545454, 176)\n",
      "4505 x 4505: (0.6638655462184874, 238)\n",
      "4506 x 4506: (0.7741605839416058, 6850)\n"
     ]
    }
   ],
   "source": [
    "for i in range(4500,4507):\n",
    "    print(f\"{i} x {i}: {rough_correl_v1(df_big, i,i)}\")"
   ]
  },
  {
   "cell_type": "code",
   "execution_count": 73,
   "metadata": {},
   "outputs": [],
   "source": [
    "def rough_correl_v1_quad(df, id1, id2, title_ref=titles_df):\n",
    "    c = get_compare_counts_df(df, id1, id2)\n",
    "    total = sum([x[2] for x in c if x[0]*x[1]>0])\n",
    "    if total == 0:\n",
    "        print(\"No data.\")\n",
    "        return (0,0,0,0,0)\n",
    "    dd = sum([c[i][2] for i in [7,8,13,14]])\n",
    "    ll = sum([c[i][2] for i in [28,29,34,35]])\n",
    "    dl = sum([c[i][2] for i in [10,11,16,17]])\n",
    "    ld = sum([c[i][2] for i in [25,26,31,32]])\n",
    "    m1 = get_title(title_ref, id1)\n",
    "    m2 = get_title(title_ref, id2)\n",
    "    print(f\"Out of {total} users,\\n{ll} liked both movies, \\n\" +\n",
    "          f\"{dd} disliked both movies, \\n\" +\n",
    "          f\"{dl} disliked '{m1}' but liked '{m2}', and \\n\" +\n",
    "          f\"{ld} liked '{m1}' but disliked '{m2}'.\\n\" +\n",
    "          f\"Correlation (v1) is ({dd+ll} - {dl+ld})/{total} = {((dd+ll)-(dl+ld))/total}\\n\" +\n",
    "          f\"Correlation coefficient is {correl_coeff(df, id1, id2)}\")\n",
    "    return (ll,dd,dl,ld,total)"
   ]
  },
  {
   "cell_type": "code",
   "execution_count": 74,
   "metadata": {},
   "outputs": [
    {
     "name": "stdout",
     "output_type": "stream",
     "text": [
      "22 40 37\n",
      "Out of 28 users,\n",
      "4 liked both movies, \n",
      "5 disliked both movies, \n",
      "0 disliked 'Les Dames du Bois de Boulogne' but liked 'Grace of My Heart', and \n",
      "3 liked 'Les Dames du Bois de Boulogne' but disliked 'Grace of My Heart'.\n",
      "Correlation (v1) is (9 - 3)/28 = 0.21428571428571427\n",
      "Correlation coefficient is 0.57186276940104\n"
     ]
    },
    {
     "data": {
      "text/plain": [
       "(4, 5, 0, 3, 28)"
      ]
     },
     "execution_count": 74,
     "metadata": {},
     "output_type": "execute_result"
    }
   ],
   "source": [
    "rough_correl_v1_quad(df_big,4500,4503)"
   ]
  },
  {
   "cell_type": "code",
   "execution_count": 45,
   "metadata": {},
   "outputs": [
    {
     "name": "stdout",
     "output_type": "stream",
     "text": [
      "Out of 5 users,\n",
      "1 liked both movies, \n",
      "0 disliked both movies, \n",
      "4 disliked 'Young Gods' but liked 'Breakfast at Tiffany's', and \n",
      "0 liked 'Young Gods' but disliked 'Breakfast at Tiffany's'.\n",
      "Correlation (v1) is (1 - 4)/5 = -0.6\n"
     ]
    },
    {
     "data": {
      "text/plain": [
       "(1, 0, 4, 0, 5)"
      ]
     },
     "execution_count": 45,
     "metadata": {},
     "output_type": "execute_result"
    }
   ],
   "source": [
    "rough_correl_v1_quad(df_big,4505,4506)"
   ]
  },
  {
   "cell_type": "code",
   "execution_count": 88,
   "metadata": {},
   "outputs": [],
   "source": [
    "def correl_coeff(df, id1, id2):\n",
    "    c = [x for x in get_compare_counts_df(df, id1, id2) if x[0]*x[1]>0]\n",
    "    mx,my = 3,3\n",
    "    c_num = sum([x[2]*(x[0]-mx)*(x[1]-my) for x in c])\n",
    "    c_denx = sum([x[2]*(x[0]-mx)**2 for x in c])\n",
    "    c_deny = sum([x[2]*(x[1]-my)**2 for x in c])\n",
    "    c_den = (c_denx*c_deny)**0.5\n",
    "    \n",
    "    return c_num/c_den if c_den > 0 else 0"
   ]
  },
  {
   "cell_type": "code",
   "execution_count": 89,
   "metadata": {},
   "outputs": [
    {
     "data": {
      "text/plain": [
       "-0.5330017908890261"
      ]
     },
     "execution_count": 89,
     "metadata": {},
     "output_type": "execute_result"
    }
   ],
   "source": [
    "correl_coeff(df_big,4505,4506)"
   ]
  },
  {
   "cell_type": "code",
   "execution_count": 90,
   "metadata": {},
   "outputs": [
    {
     "name": "stdout",
     "output_type": "stream",
     "text": [
      "4500 x 4501: (0.6666666666666666, 12), 0.727392967453308\n",
      "4500 x 4502: (0.7142857142857143, 7), 0.7756315349925288\n",
      "4500 x 4503: (0.21428571428571427, 28), 0.57186276940104\n",
      "4500 x 4504: (0.8181818181818182, 11), 0.8783100656536799\n",
      "4500 x 4505: (0.0, 1), 0\n",
      "4500 x 4506: (0.14285714285714285, 21), 0.3872983346207417\n",
      "4501 x 4502: (0.5714285714285714, 7), 0.7559289460184544\n",
      "4501 x 4503: (0.375, 24), 0.7055336829505575\n",
      "4501 x 4504: (0.5555555555555556, 9), 0.8359173188630292\n",
      "4501 x 4505: (-0.6666666666666666, 3), -0.8164965809277261\n",
      "4501 x 4506: (0.2608695652173913, 23), 0.4447495899966607\n",
      "4502 x 4503: (0.46153846153846156, 13), 0.4547542969431243\n",
      "4502 x 4504: (0.3, 10), 0.5734146386569556\n",
      "4502 x 4505: (0.4, 5), 0.0\n",
      "4502 x 4506: (0.0, 4), 0.2672612419124244\n",
      "4503 x 4504: (0.4583333333333333, 24), 0.6458333333333334\n",
      "4503 x 4505: (0.6666666666666666, 3), 0.8164965809277261\n",
      "4503 x 4506: (0.1921182266009852, 203), 0.33501027455582766\n",
      "4504 x 4505: (0, 0), 0\n",
      "4504 x 4506: (0.45454545454545453, 11), 0.7825080450574998\n",
      "4505 x 4506: (-0.6, 5), -0.5330017908890261\n"
     ]
    }
   ],
   "source": [
    "for i in range(4500,4506):\n",
    "    for j in range(i+1,4507):\n",
    "        print(f\"{i} x {j}: {rough_correl_v1(df_big, i,j)}, {correl_coeff(df_big, i,j)}\")"
   ]
  },
  {
   "cell_type": "code",
   "execution_count": 103,
   "metadata": {},
   "outputs": [],
   "source": [
    "correls_compare_x = []\n",
    "correls_compare_y = []\n",
    "correls_compare_z = []\n",
    "for i in range(4500,4506):\n",
    "    for j in range(i+1,4507):\n",
    "        correls_compare_x.append(rough_correl_v1(df_big, i,j)[0])\n",
    "        correls_compare_z.append(rough_correl_v1(df_big, i,j)[1]**0.2)\n",
    "        correls_compare_y.append(correl_coeff(df_big, i,j))"
   ]
  },
  {
   "cell_type": "code",
   "execution_count": 104,
   "metadata": {},
   "outputs": [
    {
     "data": {
      "image/png": "[encoded data removed]",
      "text/plain": [
       "<Figure size 432x288 with 1 Axes>"
      ]
     },
     "metadata": {},
     "output_type": "display_data"
    }
   ],
   "source": [
    "plt.scatter(correls_compare_x, correls_compare_y, c=correls_compare_z, cmap=lsc.from_list(\"\", [\"blue\",\"red\"]))\n",
    "plt.show()"
   ]
  },
  {
   "cell_type": "code",
   "execution_count": null,
   "metadata": {},
   "outputs": [],
   "source": []
  }
 ],
 "metadata": {
  "kernelspec": {
   "display_name": "Python [conda env:PythonData64]",
   "language": "python",
   "name": "conda-env-PythonData64-py"
  },
  "language_info": {
   "codemirror_mode": {
    "name": "ipython",
    "version": 3
   },
   "file_extension": ".py",
   "mimetype": "text/x-python",
   "name": "python",
   "nbconvert_exporter": "python",
   "pygments_lexer": "ipython3",
   "version": "3.6.6"
  }
 },
 "nbformat": 4,
 "nbformat_minor": 2
}
